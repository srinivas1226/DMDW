{
  "nbformat": 4,
  "nbformat_minor": 0,
  "metadata": {
    "colab": {
      "name": "lab 4.ipynb",
      "provenance": [],
      "collapsed_sections": [],
      "authorship_tag": "ABX9TyObseSPJc7L0Ou02s5dw5OY",
      "include_colab_link": true
    },
    "kernelspec": {
      "name": "python3",
      "display_name": "Python 3"
    },
    "language_info": {
      "name": "python"
    }
  },
  "cells": [
    {
      "cell_type": "markdown",
      "metadata": {
        "id": "view-in-github",
        "colab_type": "text"
      },
      "source": [
        "<a href=\"https://colab.research.google.com/github/srinivas1226/DMDW/blob/main/lab_4.ipynb\" target=\"_parent\"><img src=\"https://colab.research.google.com/assets/colab-badge.svg\" alt=\"Open In Colab\"/></a>"
      ]
    },
    {
      "cell_type": "code",
      "metadata": {
        "id": "tR-UIVSfMb9K"
      },
      "source": [
        "import pandas as pd\n",
        "import numpy as np\n",
        "import matplotlib.pyplot as plt"
      ],
      "execution_count": 1,
      "outputs": []
    },
    {
      "cell_type": "code",
      "metadata": {
        "id": "ddeEmefpMspT"
      },
      "source": [
        "\n",
        "iris = pd.read_csv(\"iris.csv\")\n",
        "iris"
      ],
      "execution_count": null,
      "outputs": []
    },
    {
      "cell_type": "code",
      "metadata": {
        "id": "nQyXGko9M2Y9"
      },
      "source": [
        "\n",
        "iris.plot()"
      ],
      "execution_count": null,
      "outputs": []
    },
    {
      "cell_type": "code",
      "metadata": {
        "id": "ImV5U5KtM_OC"
      },
      "source": [
        "iris.hist();"
      ],
      "execution_count": null,
      "outputs": []
    },
    {
      "cell_type": "code",
      "metadata": {
        "id": "usuA-Hb4NLZh"
      },
      "source": [
        "\n",
        "iris.boxplot()"
      ],
      "execution_count": null,
      "outputs": []
    },
    {
      "cell_type": "code",
      "metadata": {
        "id": "gwZg3ygqNNf_"
      },
      "source": [
        "\n",
        "X = ['Group A','Group B','Group C','Group D']\n",
        "pre = np.array([19,6,11,9])\n",
        "post = np.array([15,11,9,8])\n",
        "  \n",
        "X_axis = np.arange(len(X))\n",
        "  \n",
        "plt.bar(X_axis - 0.2, pre, 0.4, label = 'Pre')\n",
        "plt.bar(X_axis + 0.2, post, 0.4, label = 'Post')\n",
        "  \n",
        "plt.xticks(X_axis, X)\n",
        "plt.xlabel(\"PRE\")\n",
        "plt.ylabel(\"POST\")\n",
        "plt.title(\"PRE-POST PLOT\")\n",
        "plt.legend()\n",
        "plt.show()"
      ],
      "execution_count": null,
      "outputs": []
    },
    {
      "cell_type": "code",
      "metadata": {
        "id": "mzQ3hZMpNQDf"
      },
      "source": [
        "x1 = np.linspace(0,100,20)\n",
        "x1"
      ],
      "execution_count": null,
      "outputs": []
    },
    {
      "cell_type": "code",
      "metadata": {
        "id": "YJHeJTafNSR3"
      },
      "source": [
        "\n",
        "x2 = np.linspace(0,100,20)\n",
        "x2"
      ],
      "execution_count": null,
      "outputs": []
    },
    {
      "cell_type": "code",
      "metadata": {
        "id": "qTO8U_jHNUFX"
      },
      "source": [
        "x3 = np.linspace(0,100,20)\n",
        "x3"
      ],
      "execution_count": null,
      "outputs": []
    },
    {
      "cell_type": "code",
      "metadata": {
        "id": "Bbay7KnbNWVE"
      },
      "source": [
        "\n",
        "y1 = np.sin(x1)\n",
        "plt.plot(y1)"
      ],
      "execution_count": null,
      "outputs": []
    },
    {
      "cell_type": "code",
      "metadata": {
        "id": "9FK6Lfu4NaE_"
      },
      "source": [
        "y2 = np.cos(x2)\n",
        "plt.plot(y2)"
      ],
      "execution_count": null,
      "outputs": []
    },
    {
      "cell_type": "code",
      "metadata": {
        "id": "Vq0G42NGNeUY"
      },
      "source": [
        "y3 = np.tan(x3)\n",
        "plt.plot(y3)"
      ],
      "execution_count": null,
      "outputs": []
    },
    {
      "cell_type": "code",
      "metadata": {
        "id": "flyUMS6lNf53"
      },
      "source": [
        "h = plt.plot(y1,y2,y3)"
      ],
      "execution_count": null,
      "outputs": []
    },
    {
      "cell_type": "code",
      "metadata": {
        "id": "LF0dh2DoNiC_"
      },
      "source": [
        "\n",
        "x =[5,2,9,4,7]\n",
        "y = [10,5,8,4,2]"
      ],
      "execution_count": null,
      "outputs": []
    },
    {
      "cell_type": "code",
      "metadata": {
        "id": "oMFRaLCwNkIY"
      },
      "source": [
        "\n",
        "plt.scatter(x,y)\n",
        "plt.title(\"XY - Scatter plot\")\n",
        "plt.xlabel(\"X-axis\")\n",
        "plt.ylabel(\"Y-axis\")\n",
        "plt.legend(loc=\"upper left\");"
      ],
      "execution_count": null,
      "outputs": []
    }
  ]
}