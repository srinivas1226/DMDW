{
  "nbformat": 4,
  "nbformat_minor": 0,
  "metadata": {
    "colab": {
      "name": "lab 5.ipynb",
      "provenance": [],
      "authorship_tag": "ABX9TyNklGSjO4Ltw+NdDKHXqeUb",
      "include_colab_link": true
    },
    "kernelspec": {
      "name": "python3",
      "display_name": "Python 3"
    },
    "language_info": {
      "name": "python"
    }
  },
  "cells": [
    {
      "cell_type": "markdown",
      "metadata": {
        "id": "view-in-github",
        "colab_type": "text"
      },
      "source": [
        "<a href=\"https://colab.research.google.com/github/srinivas1226/DMDW/blob/main/lab_5.ipynb\" target=\"_parent\"><img src=\"https://colab.research.google.com/assets/colab-badge.svg\" alt=\"Open In Colab\"/></a>"
      ]
    },
    {
      "cell_type": "code",
      "metadata": {
        "id": "atkWoX9FN93V"
      },
      "source": [
        "\n",
        "import pandas as pd\n",
        "import numpy as np\n",
        "import matplotlib.pyplot as plt"
      ],
      "execution_count": null,
      "outputs": []
    },
    {
      "cell_type": "code",
      "metadata": {
        "id": "b1Ooh3swN_D8"
      },
      "source": [
        "car_sales = pd.read_csv(\"car-sales-extended-missing-data.csv\")"
      ],
      "execution_count": null,
      "outputs": []
    },
    {
      "cell_type": "code",
      "metadata": {
        "id": "xtuZ2dimOEKu"
      },
      "source": [
        "\n",
        "x = np.mean(car_sales[\"Odometer (KM)\"])\n",
        "x"
      ],
      "execution_count": null,
      "outputs": []
    },
    {
      "cell_type": "code",
      "metadata": {
        "id": "qunpxlUSOIMl"
      },
      "source": [
        "y = np.mean(car_sales[\"Doors\"])\n",
        "y"
      ],
      "execution_count": null,
      "outputs": []
    },
    {
      "cell_type": "code",
      "metadata": {
        "id": "3CxXlwqKOKGV"
      },
      "source": [
        "\n",
        "z = np.mean(car_sales[\"Price\"])\n",
        "z"
      ],
      "execution_count": null,
      "outputs": []
    },
    {
      "cell_type": "code",
      "metadata": {
        "id": "icqabdDgOMBl"
      },
      "source": [
        "car_sales.isnull().sum()"
      ],
      "execution_count": null,
      "outputs": []
    },
    {
      "cell_type": "code",
      "metadata": {
        "id": "O2akSf7nOQyU"
      },
      "source": [
        "car_sales.fillna(np.mean(car_sales[\"Odometer (KM)\"]),inplace=True)"
      ],
      "execution_count": null,
      "outputs": []
    },
    {
      "cell_type": "code",
      "metadata": {
        "id": "RrU2V_q5OZOk"
      },
      "source": [
        "car_sales.isna().sum()"
      ],
      "execution_count": null,
      "outputs": []
    },
    {
      "cell_type": "code",
      "metadata": {
        "id": "md3KUMyXOaJk"
      },
      "source": [
        "# Create dataframe\n",
        "df = pd.DataFrame({'D': [\"A\",\"B\",\"C\",\"D\",\"E\",\"AA\",\"AB\"],\n",
        "'B': [10,20,30,40,50,60,70]}, index=[0,1,2,3,4,5,6])\n",
        "print(df)\n",
        "# using get_dummies function of pandas package\n",
        "df_dummies= pd.get_dummies(df, prefix='A', \n",
        "columns=['D'])\n",
        "print(df_dummies)"
      ],
      "execution_count": null,
      "outputs": []
    },
    {
      "cell_type": "code",
      "metadata": {
        "id": "L4RtNy1GOdWc"
      },
      "source": [
        "# Alternatively you can use sklearn package's LabelEncoder function\n",
        "from sklearn.preprocessing import LabelEncoder\n",
        "le = LabelEncoder()\n",
        "df['A_AB'] = le.fit_transform(df.D)\n",
        "print(df)"
      ],
      "execution_count": null,
      "outputs": []
    },
    {
      "cell_type": "code",
      "metadata": {
        "id": "enh4ZeYnOhmk"
      },
      "source": [
        "\n",
        "from sklearn import datasets\n",
        "from sklearn import preprocessing\n",
        "# Load dataset from sklearn dataset package\n",
        "iris_ = datasets.load_iris()\n",
        "# seperate input and target features\n",
        "X = iris_.data\n",
        "y = iris_.target\n",
        "print(X)\n",
        "#Min-max normalization\n",
        "minmax_scale = preprocessing.MinMaxScaler().fit(X)\n",
        "X_minmax = minmax_scale.transform(X)\n",
        "print(X_minmax)"
      ],
      "execution_count": null,
      "outputs": []
    },
    {
      "cell_type": "code",
      "metadata": {
        "id": "0IxugOquOlIN"
      },
      "source": [
        "\n",
        "#Z-score normalization\n",
        "std_scale = preprocessing.StandardScaler().fit(X)\n",
        "X_std = std_scale.transform(X)\n",
        "print(X_std)"
      ],
      "execution_count": null,
      "outputs": []
    },
    {
      "cell_type": "code",
      "metadata": {
        "id": "Tmh3ApDaOoss"
      },
      "source": [
        "# for showing the coviariance\n",
        "iris = pd.read_csv(\"iris.csv\")\n",
        "iris\n"
      ],
      "execution_count": null,
      "outputs": []
    },
    {
      "cell_type": "code",
      "metadata": {
        "id": "Xb0IWR7fOsZj"
      },
      "source": [
        "iris.cov()"
      ],
      "execution_count": null,
      "outputs": []
    },
    {
      "cell_type": "code",
      "metadata": {
        "id": "fy_A6nR5Ovmq"
      },
      "source": [
        "\n",
        "iris.corr()"
      ],
      "execution_count": null,
      "outputs": []
    }
  ]
}