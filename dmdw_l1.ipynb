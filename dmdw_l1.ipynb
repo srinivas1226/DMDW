{
  "nbformat": 4,
  "nbformat_minor": 0,
  "metadata": {
    "colab": {
      "name": "dmdw l1.ipynb",
      "provenance": [],
      "collapsed_sections": [],
      "authorship_tag": "ABX9TyNK8pjeWI7X22ThinkXyhI2",
      "include_colab_link": true
    },
    "kernelspec": {
      "name": "python3",
      "display_name": "Python 3"
    },
    "language_info": {
      "name": "python"
    }
  },
  "cells": [
    {
      "cell_type": "markdown",
      "metadata": {
        "id": "view-in-github",
        "colab_type": "text"
      },
      "source": [
        "<a href=\"https://colab.research.google.com/github/srinivas1226/DMDW/blob/main/dmdw_l1.ipynb\" target=\"_parent\"><img src=\"https://colab.research.google.com/assets/colab-badge.svg\" alt=\"Open In Colab\"/></a>"
      ]
    },
    {
      "cell_type": "markdown",
      "metadata": {
        "id": "wJHzSbZk0uXw"
      },
      "source": [
        "1) mean and median\n"
      ]
    },
    {
      "cell_type": "code",
      "metadata": {
        "colab": {
          "base_uri": "https://localhost:8080/"
        },
        "id": "A9cB7486zp_n",
        "outputId": "c14465cf-7813-4d63-febb-5c3f7403a2cd"
      },
      "source": [
        "l=[12,35,18,9,56,24]\n",
        "n=0\n",
        "p=0\n",
        "for c in l:\n",
        "  p=p+1\n",
        "print(p)\n",
        "for x in range(0,p):\n",
        "  n=n+l[x]\n",
        "print(n)\n",
        "print(n/p)"
      ],
      "execution_count": null,
      "outputs": [
        {
          "output_type": "stream",
          "name": "stdout",
          "text": [
            "6\n",
            "154\n",
            "25.666666666666668\n"
          ]
        }
      ]
    },
    {
      "cell_type": "code",
      "metadata": {
        "id": "QuFJULl61Z1C"
      },
      "source": [
        "import pandas  as pd\n"
      ],
      "execution_count": 1,
      "outputs": []
    },
    {
      "cell_type": "code",
      "metadata": {
        "colab": {
          "base_uri": "https://localhost:8080/"
        },
        "id": "xFSEz31R-lBn",
        "outputId": "0d7971ca-14d6-4876-a0a1-eb68cb1aa7bb"
      },
      "source": [
        "data={'Name': ['a','b'],'Roll':[10,12],'Age':[20,12]}\n",
        "df=pd.DataFrame(data,columns=['name','Roll','Age'])\n",
        "print(df)\n",
        "print(df['Age'])\n",
        "print(df['Roll'])"
      ],
      "execution_count": 2,
      "outputs": [
        {
          "output_type": "stream",
          "name": "stdout",
          "text": [
            "  name  Roll  Age\n",
            "0  NaN    10   20\n",
            "1  NaN    12   12\n",
            "0    20\n",
            "1    12\n",
            "Name: Age, dtype: int64\n",
            "0    10\n",
            "1    12\n",
            "Name: Roll, dtype: int64\n"
          ]
        }
      ]
    },
    {
      "cell_type": "code",
      "metadata": {
        "id": "s_qkEYHvAKX3"
      },
      "source": [
        ""
      ],
      "execution_count": null,
      "outputs": []
    }
  ]
}